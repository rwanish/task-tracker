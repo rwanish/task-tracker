{
  "cells": [
    {
      "cell_type": "markdown",
      "metadata": {
        "id": "view-in-github",
        "colab_type": "text"
      },
      "source": [
        "<a href=\"https://colab.research.google.com/github/rwanish/task-tracker/blob/main/Atelier_1_final_21.ipynb\" target=\"_parent\"><img src=\"https://colab.research.google.com/assets/colab-badge.svg\" alt=\"Open In Colab\"/></a>"
      ]
    },
    {
      "cell_type": "markdown",
      "metadata": {
        "id": "Jugvs9gofuk5"
      },
      "source": [
        "# <center>  Deep Learning TP 1 </center>"
      ]
    },
    {
      "cell_type": "markdown",
      "metadata": {
        "id": "pFVX4gpDfuk7"
      },
      "source": [
        "## Exercice de TD (OR) avec Keras Perceptron simple (1 neurone)"
      ]
    },
    {
      "cell_type": "markdown",
      "metadata": {
        "id": "y2X2qqxHfuk7"
      },
      "source": [
        "Vous trouverez ci-dessous le code concernant la modélisation de la fonction logique \"OR\" par un perceptron simple couche"
      ]
    },
    {
      "cell_type": "code",
      "execution_count": null,
      "metadata": {
        "id": "wdbC4Sjifuk8",
        "outputId": "1cc7d851-42a4-4db0-ff5f-1875f7d19563"
      },
      "outputs": [
        {
          "name": "stderr",
          "output_type": "stream",
          "text": [
            "Using TensorFlow backend.\n"
          ]
        },
        {
          "name": "stdout",
          "output_type": "stream",
          "text": [
            "Epoch 1/10\n",
            "4/4 [==============================] - 0s 35ms/step - loss: 0.1963\n",
            "Epoch 2/10\n",
            "4/4 [==============================] - 0s 501us/step - loss: 0.1959\n",
            "Epoch 3/10\n",
            "4/4 [==============================] - 0s 497us/step - loss: 0.1955\n",
            "Epoch 4/10\n",
            "4/4 [==============================] - 0s 751us/step - loss: 0.1951\n",
            "Epoch 5/10\n",
            "4/4 [==============================] - 0s 501us/step - loss: 0.1947\n",
            "Epoch 6/10\n",
            "4/4 [==============================] - 0s 750us/step - loss: 0.1944\n",
            "Epoch 7/10\n",
            "4/4 [==============================] - 0s 498us/step - loss: 0.1940\n",
            "Epoch 8/10\n",
            "4/4 [==============================] - 0s 2ms/step - loss: 0.1936\n",
            "Epoch 9/10\n",
            "4/4 [==============================] - 0s 750us/step - loss: 0.1932\n",
            "Epoch 10/10\n",
            "4/4 [==============================] - 0s 1ms/step - loss: 0.1929\n",
            "[array([[0.5105952],\n",
            "       [0.5105952]], dtype=float32), array([-0.48764506], dtype=float32)]\n"
          ]
        }
      ],
      "source": [
        "import numpy as np\n",
        "from keras.models import Sequential\n",
        "from keras.optimizers import SGD\n",
        "from keras.layers import Dense, Activation\n",
        "from keras import initializers\n",
        "# le OR\n",
        "X = np.array([[0,0],[0,1],[1,0],[1,1]])\n",
        "Y = np.array([[0],[1],[1],[1]])\n",
        "\n",
        "network = Sequential()\n",
        "\n",
        "network.add(Dense(1, input_dim = 2, kernel_initializer=initializers.Constant(0.5),\n",
        "            bias_initializer=initializers.Constant(-0.5)))\n",
        "\n",
        "network.add(Activation(\"sigmoid\"))\n",
        "\n",
        "network.compile(loss = \"mse\", optimizer = 'SGD')\n",
        "\n",
        "network.fit(X, Y, epochs = 10)\n",
        "\n",
        "print(network.get_weights())\n",
        ""
      ]
    },
    {
      "cell_type": "markdown",
      "metadata": {
        "id": "Os8fX4wIfuk9"
      },
      "source": [
        "####  <font color='blue'> Commenter en détail chaque ligne de code utilisée </font>"
      ]
    },
    {
      "cell_type": "markdown",
      "metadata": {
        "id": "x0CZOMedfuk9"
      },
      "source": [
        "#### <font color='blue'> Que signifie epoch=10 ?"
      ]
    },
    {
      "cell_type": "markdown",
      "metadata": {
        "id": "aBaIZPckfuk-"
      },
      "source": [
        "La réponse du neurone à l'entré X est donnée ci-dessous"
      ]
    },
    {
      "cell_type": "code",
      "execution_count": null,
      "metadata": {
        "scrolled": true,
        "id": "xk84q4zbfuk-",
        "outputId": "9e3e6a3b-8a98-4252-e6c3-614ab597aef2"
      },
      "outputs": [
        {
          "data": {
            "text/plain": [
              "array([[0.3804485 ],\n",
              "       [0.5057373 ],\n",
              "       [0.5057373 ],\n",
              "       [0.63030964]], dtype=float32)"
            ]
          },
          "execution_count": 2,
          "metadata": {},
          "output_type": "execute_result"
        }
      ],
      "source": [
        "network.predict(X)"
      ]
    },
    {
      "cell_type": "markdown",
      "metadata": {
        "id": "Yasz6rOofuk-"
      },
      "source": [
        "#### <font color='blue'>Vérifier par le calcul les résultats obtenus"
      ]
    },
    {
      "cell_type": "markdown",
      "metadata": {
        "id": "SBFY9Te3fuk-"
      },
      "source": [
        "#### <font color='blue'> En prenat en compte les valeurs des poids W0=-0.4876, W1=0.5106 et W2=0.5106, démontrer que l'expression  de la droite de régression est de la forme \\\\[y=-x+0.95]comme le montre la figure ci-dessous.   </font>"
      ]
    },
    {
      "cell_type": "markdown",
      "metadata": {
        "id": "EEuzqjGVfuk_"
      },
      "source": [
        "![regression.png](attachment:regression.png)"
      ]
    },
    {
      "cell_type": "markdown",
      "metadata": {
        "id": "j1xzJ3OYfuk_"
      },
      "source": [
        "#### <font color='blue'> Rappeler la formule de la MSE (Mean Square error). Vérifier par calcul  la valeur de la MSE vaut 0.1929 (loss=0.1929)  )  </font>"
      ]
    },
    {
      "cell_type": "markdown",
      "metadata": {
        "id": "tL_PlUV4fuk_"
      },
      "source": [
        "## Exercice (AND) avec Keras"
      ]
    },
    {
      "cell_type": "markdown",
      "metadata": {
        "id": "QhR1uTJ-fuk_"
      },
      "source": [
        "#### <font color='blue'> Appliquer la même démarche pour un opérateur AND. Vous justifierez que la fonction AND est correctement réalisée par le neurone. Vous justifierez la valeur de la mse </font>"
      ]
    },
    {
      "cell_type": "markdown",
      "metadata": {
        "id": "goDXFMnbfuk_"
      },
      "source": [
        "#### <font color='blue'> Peut-on réaliser un  OU exclusif avec une approche similaire (un seul neurone). Justifier votre réponse. </font>"
      ]
    },
    {
      "cell_type": "markdown",
      "metadata": {
        "id": "7ZTUIYuQfuk_"
      },
      "source": [
        "## MNIST"
      ]
    },
    {
      "cell_type": "markdown",
      "metadata": {
        "id": "T7FF5Umnfuk_"
      },
      "source": [
        "La base de données MNIST pour Modified National Institute of Standards and Technology, est une base de données de chiffres écrits à la main. La base MNIST est devenu un test standard. Elle regroupe 60000 images d'apprentissage et 10000 images de test, issues d'une base de données antérieure, appelée simplement NIST1. Ce sont des images en noir et blanc, normalisées centrées de 28 pixels de côté.\n",
        "La figure ci-dessous présente un exemple de réseau de neurone multicouches appliqué à la base MNIST"
      ]
    },
    {
      "cell_type": "markdown",
      "metadata": {
        "id": "jpFkKTIsfuk_"
      },
      "source": [
        "#### <font color='blue'> Expliquer pourquoi le réseau comprend 784 entrées et 10 sorties."
      ]
    },
    {
      "cell_type": "markdown",
      "metadata": {
        "id": "9lNmaWs1fuk_"
      },
      "source": [
        "![mnist.png](attachment:mnist.png)"
      ]
    },
    {
      "cell_type": "markdown",
      "metadata": {
        "id": "j7s2Ts4jfulA"
      },
      "source": [
        "###  Importation des librairies"
      ]
    },
    {
      "cell_type": "code",
      "execution_count": null,
      "metadata": {
        "id": "KZ6OdpdRfulA"
      },
      "outputs": [],
      "source": [
        "%matplotlib inline\n",
        "import matplotlib.pyplot as plt\n",
        "import seaborn as sb\n",
        "sb.set()\n",
        "\n",
        "import pandas as pd\n",
        "import numpy as np\n",
        "import time\n",
        "\n",
        "import keras\n",
        "keras.__version__\n",
        "\n",
        "import keras.utils as ku\n",
        "import keras.models as km\n",
        "import keras.layers as kl\n",
        "import keras.optimizers as ko\n",
        "\n",
        "from sklearn.metrics import confusion_matrix\n"
      ]
    },
    {
      "cell_type": "markdown",
      "metadata": {
        "id": "wS2WD3KJfulA"
      },
      "source": [
        "#### <font color='blue'> Dans quel cas est-il utile d'afficher les configurations ci-dessous ? </font>"
      ]
    },
    {
      "cell_type": "code",
      "execution_count": null,
      "metadata": {
        "id": "lAfCDvrKfulA",
        "outputId": "07f37ad5-d476-4078-c8fc-0ca6bf89686d"
      },
      "outputs": [
        {
          "name": "stdout",
          "output_type": "stream",
          "text": [
            "3.6.8 |Anaconda, Inc.| (default, Feb 21 2019, 18:30:04) [MSC v.1916 64 bit (AMD64)]\n",
            "[name: \"/device:CPU:0\"\n",
            "device_type: \"CPU\"\n",
            "memory_limit: 268435456\n",
            "locality {\n",
            "}\n",
            "incarnation: 9535188647397318155\n",
            "]\n"
          ]
        }
      ],
      "source": [
        "import sys\n",
        "print(sys.version)\n",
        "from tensorflow.python.client import device_lib\n",
        "print(device_lib.list_local_devices())"
      ]
    },
    {
      "cell_type": "markdown",
      "metadata": {
        "id": "1p0GPDv4fulA"
      },
      "source": [
        "#### <font color='blue'> Expliquer ce que signifient batch size, epochs et N_classes </font>"
      ]
    },
    {
      "cell_type": "code",
      "execution_count": null,
      "metadata": {
        "id": "uUcB5vuZfulB"
      },
      "outputs": [],
      "source": [
        "batch_size = 128\n",
        "epochs = 10\n",
        "N_classes = 10"
      ]
    },
    {
      "cell_type": "markdown",
      "metadata": {
        "id": "ZPayLIdEfulB"
      },
      "source": [
        "####  <font color='blue'> Expliquer les lignes de code ci-dessous. En particulier expliquer comment sont obtenues les données d'aprentissage X_train et Y_train</font>"
      ]
    },
    {
      "cell_type": "code",
      "execution_count": null,
      "metadata": {
        "id": "Zj9tB83mfulB"
      },
      "outputs": [],
      "source": [
        "import pandas as pd\n",
        "# path=\"\" # Si les données sont dans le répertoire courant sinon:\n",
        "path=\"\"\n",
        "Dtrain=pd.read_csv(path+\"mnist_train.csv\",header=None)\n",
        "X_train = Dtrain.values[:,:-1]\n",
        "Y_train = Dtrain.values[:,-1]\n",
        "\n",
        "Dtest=pd.read_csv(path+\"mnist_test.csv\",header=None)\n",
        "X_test = Dtest.values[:,:-1]\n",
        "Y_test = Dtest.values[:,-1]"
      ]
    },
    {
      "cell_type": "markdown",
      "metadata": {
        "id": "XKEb2YehfulB"
      },
      "source": [
        "*Attention*, avec Keras, la variable réponse doit être une matrice binaire où chaque classe est représentée par une indicatrice : pour chaque individu, l'élément de la colone correspondant à la classe à laquelle il appartient est à 1, sinon il est à 0.\n",
        "\n",
        "Keras possède une fonction `to_catergorical` permettant de convertir directement le vecteur variable `Y_train` de réponse en matrice (`array numpy`) indicatrice`Y_train_cat`.\n",
        "\n",
        "C'est l'équivalent de `get_dummies` de `pandas`\n",
        " ou `OneHotEncoder` de `scikit-learn`."
      ]
    },
    {
      "cell_type": "code",
      "execution_count": null,
      "metadata": {
        "id": "1k03C2wsfulB"
      },
      "outputs": [],
      "source": [
        "Y_train_cat = ku.to_categorical(Y_train, N_classes)\n",
        "Y_test_cat = ku.to_categorical(Y_test, N_classes)"
      ]
    },
    {
      "cell_type": "markdown",
      "metadata": {
        "id": "ZXqwACrifulB"
      },
      "source": [
        "#### <font color='blue'> Quelle est la différence entre Y_train et Y_train_cat   ? </font>"
      ]
    },
    {
      "cell_type": "code",
      "execution_count": null,
      "metadata": {
        "id": "WwORAY6EfulB",
        "outputId": "397d99d7-fe73-4456-919d-980a513a8fe5"
      },
      "outputs": [
        {
          "data": {
            "text/html": [
              "<div>\n",
              "<style scoped>\n",
              "    .dataframe tbody tr th:only-of-type {\n",
              "        vertical-align: middle;\n",
              "    }\n",
              "\n",
              "    .dataframe tbody tr th {\n",
              "        vertical-align: top;\n",
              "    }\n",
              "\n",
              "    .dataframe thead th {\n",
              "        text-align: right;\n",
              "    }\n",
              "</style>\n",
              "<table border=\"1\" class=\"dataframe\">\n",
              "  <thead>\n",
              "    <tr style=\"text-align: right;\">\n",
              "      <th></th>\n",
              "      <th>0</th>\n",
              "      <th>1</th>\n",
              "      <th>2</th>\n",
              "      <th>3</th>\n",
              "      <th>4</th>\n",
              "      <th>5</th>\n",
              "      <th>6</th>\n",
              "      <th>7</th>\n",
              "      <th>8</th>\n",
              "      <th>9</th>\n",
              "      <th>...</th>\n",
              "      <th>775</th>\n",
              "      <th>776</th>\n",
              "      <th>777</th>\n",
              "      <th>778</th>\n",
              "      <th>779</th>\n",
              "      <th>780</th>\n",
              "      <th>781</th>\n",
              "      <th>782</th>\n",
              "      <th>783</th>\n",
              "      <th>784</th>\n",
              "    </tr>\n",
              "  </thead>\n",
              "  <tbody>\n",
              "    <tr>\n",
              "      <th>0</th>\n",
              "      <td>0</td>\n",
              "      <td>0</td>\n",
              "      <td>0</td>\n",
              "      <td>0</td>\n",
              "      <td>0</td>\n",
              "      <td>0</td>\n",
              "      <td>0</td>\n",
              "      <td>0</td>\n",
              "      <td>0</td>\n",
              "      <td>0</td>\n",
              "      <td>...</td>\n",
              "      <td>0</td>\n",
              "      <td>0</td>\n",
              "      <td>0</td>\n",
              "      <td>0</td>\n",
              "      <td>0</td>\n",
              "      <td>0</td>\n",
              "      <td>0</td>\n",
              "      <td>0</td>\n",
              "      <td>0</td>\n",
              "      <td>2</td>\n",
              "    </tr>\n",
              "    <tr>\n",
              "      <th>1</th>\n",
              "      <td>0</td>\n",
              "      <td>0</td>\n",
              "      <td>0</td>\n",
              "      <td>0</td>\n",
              "      <td>0</td>\n",
              "      <td>0</td>\n",
              "      <td>0</td>\n",
              "      <td>0</td>\n",
              "      <td>0</td>\n",
              "      <td>0</td>\n",
              "      <td>...</td>\n",
              "      <td>0</td>\n",
              "      <td>0</td>\n",
              "      <td>0</td>\n",
              "      <td>0</td>\n",
              "      <td>0</td>\n",
              "      <td>0</td>\n",
              "      <td>0</td>\n",
              "      <td>0</td>\n",
              "      <td>0</td>\n",
              "      <td>3</td>\n",
              "    </tr>\n",
              "    <tr>\n",
              "      <th>2</th>\n",
              "      <td>0</td>\n",
              "      <td>0</td>\n",
              "      <td>0</td>\n",
              "      <td>0</td>\n",
              "      <td>0</td>\n",
              "      <td>0</td>\n",
              "      <td>0</td>\n",
              "      <td>0</td>\n",
              "      <td>0</td>\n",
              "      <td>0</td>\n",
              "      <td>...</td>\n",
              "      <td>0</td>\n",
              "      <td>0</td>\n",
              "      <td>0</td>\n",
              "      <td>0</td>\n",
              "      <td>0</td>\n",
              "      <td>0</td>\n",
              "      <td>0</td>\n",
              "      <td>0</td>\n",
              "      <td>0</td>\n",
              "      <td>0</td>\n",
              "    </tr>\n",
              "    <tr>\n",
              "      <th>3</th>\n",
              "      <td>0</td>\n",
              "      <td>0</td>\n",
              "      <td>0</td>\n",
              "      <td>0</td>\n",
              "      <td>0</td>\n",
              "      <td>0</td>\n",
              "      <td>0</td>\n",
              "      <td>0</td>\n",
              "      <td>0</td>\n",
              "      <td>0</td>\n",
              "      <td>...</td>\n",
              "      <td>0</td>\n",
              "      <td>0</td>\n",
              "      <td>0</td>\n",
              "      <td>0</td>\n",
              "      <td>0</td>\n",
              "      <td>0</td>\n",
              "      <td>0</td>\n",
              "      <td>0</td>\n",
              "      <td>0</td>\n",
              "      <td>0</td>\n",
              "    </tr>\n",
              "    <tr>\n",
              "      <th>4</th>\n",
              "      <td>0</td>\n",
              "      <td>0</td>\n",
              "      <td>0</td>\n",
              "      <td>0</td>\n",
              "      <td>0</td>\n",
              "      <td>0</td>\n",
              "      <td>0</td>\n",
              "      <td>0</td>\n",
              "      <td>0</td>\n",
              "      <td>0</td>\n",
              "      <td>...</td>\n",
              "      <td>0</td>\n",
              "      <td>0</td>\n",
              "      <td>0</td>\n",
              "      <td>0</td>\n",
              "      <td>0</td>\n",
              "      <td>0</td>\n",
              "      <td>0</td>\n",
              "      <td>0</td>\n",
              "      <td>0</td>\n",
              "      <td>2</td>\n",
              "    </tr>\n",
              "  </tbody>\n",
              "</table>\n",
              "<p>5 rows × 785 columns</p>\n",
              "</div>"
            ],
            "text/plain": [
              "   0    1    2    3    4    5    6    7    8    9    ...  775  776  777  778  \\\n",
              "0    0    0    0    0    0    0    0    0    0    0  ...    0    0    0    0   \n",
              "1    0    0    0    0    0    0    0    0    0    0  ...    0    0    0    0   \n",
              "2    0    0    0    0    0    0    0    0    0    0  ...    0    0    0    0   \n",
              "3    0    0    0    0    0    0    0    0    0    0  ...    0    0    0    0   \n",
              "4    0    0    0    0    0    0    0    0    0    0  ...    0    0    0    0   \n",
              "\n",
              "   779  780  781  782  783  784  \n",
              "0    0    0    0    0    0    2  \n",
              "1    0    0    0    0    0    3  \n",
              "2    0    0    0    0    0    0  \n",
              "3    0    0    0    0    0    0  \n",
              "4    0    0    0    0    0    2  \n",
              "\n",
              "[5 rows x 785 columns]"
            ]
          },
          "execution_count": 8,
          "metadata": {},
          "output_type": "execute_result"
        }
      ],
      "source": [
        "Dtrain.head()"
      ]
    },
    {
      "cell_type": "markdown",
      "metadata": {
        "id": "7amEykVDfulC"
      },
      "source": [
        "## Apprentissage et prévision du test Avec réseau dense"
      ]
    },
    {
      "cell_type": "markdown",
      "metadata": {
        "id": "QWTaMa_mfulC"
      },
      "source": [
        "La figure ci dessous présente un réseau standard et un réseau sur lequel est appliqué un dropout"
      ]
    },
    {
      "cell_type": "markdown",
      "metadata": {
        "id": "hM2AWLOmfulC"
      },
      "source": [
        "![dropout.png](attachment:dropout.png)"
      ]
    },
    {
      "cell_type": "markdown",
      "metadata": {
        "id": "qEunkWp2fulD"
      },
      "source": [
        "Première tentative d'appliquer un réseaux de neurone de type Perceptron classique avec 4 couches:\n",
        "* Input Layer  \n",
        "* Hidden Layer : Dense: 128 neurones + Foncton d'activation *relu* et on applique un *Dropout*: 20% des neurones tiré aléatoirement sont desactivés\n",
        "* Hidden Layer : Dense: 128 neurones + Foncton d'activation *relu* er on applique *Dropout*: 20% des neurones tiré aléatoirement sont desactivées\n",
        "* Output Layer *softmax* fournit la classification"
      ]
    },
    {
      "cell_type": "markdown",
      "metadata": {
        "id": "Czt9yN3BfulD"
      },
      "source": [
        "### Apprentissage"
      ]
    },
    {
      "cell_type": "code",
      "execution_count": null,
      "metadata": {
        "id": "rZyi89Y5fulD",
        "outputId": "8e0b6fec-5aa9-4777-a0dc-415a0ef4805f"
      },
      "outputs": [
        {
          "name": "stdout",
          "output_type": "stream",
          "text": [
            "_________________________________________________________________\n",
            "Layer (type)                 Output Shape              Param #   \n",
            "=================================================================\n",
            "dense_3 (Dense)              (None, 128)               100480    \n",
            "_________________________________________________________________\n",
            "dropout_1 (Dropout)          (None, 128)               0         \n",
            "_________________________________________________________________\n",
            "dense_4 (Dense)              (None, 128)               16512     \n",
            "_________________________________________________________________\n",
            "dropout_2 (Dropout)          (None, 128)               0         \n",
            "_________________________________________________________________\n",
            "dense_5 (Dense)              (None, 10)                1290      \n",
            "=================================================================\n",
            "Total params: 118,282\n",
            "Trainable params: 118,282\n",
            "Non-trainable params: 0\n",
            "_________________________________________________________________\n"
          ]
        }
      ],
      "source": [
        "# Définition du réseau\n",
        "model = km.Sequential()\n",
        "model.add(kl.Dense(128, activation='relu', input_shape=(784,)))\n",
        "model.add(kl.Dropout(0.2))\n",
        "model.add(kl.Dense(128, activation='relu'))\n",
        "model.add(kl.Dropout(0.2))\n",
        "\n",
        "model.add(kl.Dense(N_classes, activation='softmax'))\n",
        "model.summary()"
      ]
    },
    {
      "cell_type": "markdown",
      "metadata": {
        "id": "-FmDa4yOfulD"
      },
      "source": [
        "   #### <font color='blue'> Retrouvez manuellement le nombre de paramètres du réseau </font>"
      ]
    },
    {
      "cell_type": "code",
      "execution_count": null,
      "metadata": {
        "id": "Vbz73QG3fulD",
        "outputId": "f02bbd7b-c1ff-4774-81e8-e22ace410033"
      },
      "outputs": [
        {
          "name": "stdout",
          "output_type": "stream",
          "text": [
            "Train on 60000 samples, validate on 10000 samples\n",
            "Epoch 1/10\n",
            "60000/60000 [==============================] - 10s 167us/step - loss: 6.4166 - acc: 0.5920 - val_loss: 3.5240 - val_acc: 0.7751\n",
            "Epoch 2/10\n",
            "60000/60000 [==============================] - 9s 144us/step - loss: 4.0198 - acc: 0.7442 - val_loss: 3.4507 - val_acc: 0.7802\n",
            "Epoch 3/10\n",
            "60000/60000 [==============================] - 9s 146us/step - loss: 3.5601 - acc: 0.7747 - val_loss: 2.8620 - val_acc: 0.8205\n",
            "Epoch 4/10\n",
            "60000/60000 [==============================] - 9s 149us/step - loss: 3.0400 - acc: 0.8079 - val_loss: 1.4815 - val_acc: 0.9052\n",
            "Epoch 5/10\n",
            "60000/60000 [==============================] - 9s 146us/step - loss: 1.9331 - acc: 0.8762 - val_loss: 1.2686 - val_acc: 0.9189\n",
            "Epoch 6/10\n",
            "60000/60000 [==============================] - 10s 160us/step - loss: 1.7508 - acc: 0.8883 - val_loss: 1.2815 - val_acc: 0.9189\n",
            "Epoch 7/10\n",
            "60000/60000 [==============================] - 9s 144us/step - loss: 1.6389 - acc: 0.8955 - val_loss: 1.0864 - val_acc: 0.9304\n",
            "Epoch 8/10\n",
            "60000/60000 [==============================] - 9s 151us/step - loss: 1.5716 - acc: 0.8998 - val_loss: 1.1972 - val_acc: 0.9241\n",
            "Epoch 9/10\n",
            "60000/60000 [==============================] - 8s 138us/step - loss: 1.4731 - acc: 0.9064 - val_loss: 1.0665 - val_acc: 0.9320\n",
            "Epoch 10/10\n",
            "60000/60000 [==============================] - 9s 149us/step - loss: 1.4822 - acc: 0.9059 - val_loss: 0.9873 - val_acc: 0.9380\n"
          ]
        }
      ],
      "source": [
        "# apprentissage\n",
        "model.compile(loss='categorical_crossentropy',\n",
        "              optimizer=ko.RMSprop(),\n",
        "              metrics=['accuracy'])\n",
        "ts = time.time()\n",
        "history = model.fit(X_train, Y_train_cat,\n",
        "                    batch_size=batch_size,\n",
        "                    epochs=epochs,\n",
        "                    verbose=1,\n",
        "                    validation_data=(X_test, Y_test_cat))\n",
        "te = time.time()\n",
        "t_train_mpl = te-ts"
      ]
    },
    {
      "cell_type": "markdown",
      "metadata": {
        "id": "BYMknQcUfulK"
      },
      "source": [
        "#### <font color='blue'>Le dropout permet d'éviter le sur-apprentissage. Expliquer ce terme </font>"
      ]
    },
    {
      "cell_type": "code",
      "execution_count": null,
      "metadata": {
        "id": "HuwzlaWpfulL",
        "outputId": "4ab0abcb-8c14-4afe-a25e-9ac5b6b86725"
      },
      "outputs": [
        {
          "name": "stdout",
          "output_type": "stream",
          "text": [
            "Train on 60000 samples, validate on 10000 samples\n",
            "Epoch 1/10\n",
            "60000/60000 [==============================] - 5s 87us/step - loss: 0.1551 - acc: 0.2175 - val_loss: 0.1206 - val_acc: 0.3913\n",
            "Epoch 2/10\n",
            "60000/60000 [==============================] - 4s 66us/step - loss: 0.1250 - acc: 0.3697 - val_loss: 0.1087 - val_acc: 0.4520\n",
            "Epoch 3/10\n",
            "60000/60000 [==============================] - 4s 66us/step - loss: 0.1135 - acc: 0.4275 - val_loss: 0.0953 - val_acc: 0.5186\n",
            "Epoch 4/10\n",
            "60000/60000 [==============================] - 4s 70us/step - loss: 0.1010 - acc: 0.4900 - val_loss: 0.0769 - val_acc: 0.6110\n",
            "Epoch 5/10\n",
            "60000/60000 [==============================] - 4s 73us/step - loss: 0.0800 - acc: 0.5948 - val_loss: 0.0576 - val_acc: 0.7075\n",
            "Epoch 6/10\n",
            "60000/60000 [==============================] - 4s 75us/step - loss: 0.0686 - acc: 0.6527 - val_loss: 0.0500 - val_acc: 0.7468\n",
            "Epoch 7/10\n",
            "60000/60000 [==============================] - 4s 72us/step - loss: 0.0615 - acc: 0.6881 - val_loss: 0.0443 - val_acc: 0.7753\n",
            "Epoch 8/10\n",
            "60000/60000 [==============================] - 4s 67us/step - loss: 0.0565 - acc: 0.7137 - val_loss: 0.0414 - val_acc: 0.7901\n",
            "Epoch 9/10\n",
            "60000/60000 [==============================] - 4s 73us/step - loss: 0.0530 - acc: 0.7312 - val_loss: 0.0391 - val_acc: 0.8025\n",
            "Epoch 10/10\n",
            "60000/60000 [==============================] - 4s 70us/step - loss: 0.0500 - acc: 0.7465 - val_loss: 0.0381 - val_acc: 0.8067\n"
          ]
        }
      ],
      "source": [
        "# apprentissage\n",
        "model.compile(loss='mse',\n",
        "              optimizer='SGD',\n",
        "              metrics=['accuracy'])\n",
        "ts = time.time()\n",
        "history = model.fit(X_train, Y_train_cat,\n",
        "                    batch_size=batch_size,\n",
        "                    epochs=epochs,\n",
        "                    verbose=1,\n",
        "                    validation_data=(X_test, Y_test_cat))\n",
        "te = time.time()\n",
        "t_train_mpl = te-ts"
      ]
    },
    {
      "cell_type": "markdown",
      "metadata": {
        "id": "ETYBBCzyfulL"
      },
      "source": [
        "### Résultats"
      ]
    },
    {
      "cell_type": "code",
      "execution_count": null,
      "metadata": {
        "id": "6fOA0IIffulL",
        "outputId": "a70e415c-29a0-46ba-e45d-448a2e9f15a9"
      },
      "outputs": [
        {
          "name": "stdout",
          "output_type": "stream",
          "text": [
            "Test loss: 0.0293820136025548\n",
            "Test accuracy: 0.8529\n",
            "Time Running: 30.53 seconds\n"
          ]
        },
        {
          "data": {
            "image/png": "[encoded data removed]",
            "text/plain": [
              "<Figure size 504x432 with 2 Axes>"
            ]
          },
          "metadata": {},
          "output_type": "display_data"
        }
      ],
      "source": [
        "score_mpl = model.evaluate(X_test, Y_test_cat, verbose=0)\n",
        "predict_mpl = model.predict(X_test)\n",
        "print('Test loss:', score_mpl[0])\n",
        "print('Test accuracy:', score_mpl[1])\n",
        "print(\"Time Running: %.2f seconds\" %t_train_mpl )\n",
        "fig=plt.figure(figsize=(7,6))\n",
        "ax = fig.add_subplot(1,1,1)\n",
        "ax = sb.heatmap(pd.DataFrame(confusion_matrix(Y_test, predict_mpl.argmax(1))), annot=True, fmt=\"d\")"
      ]
    },
    {
      "cell_type": "markdown",
      "metadata": {
        "id": "k0Q4lU1lfulL"
      },
      "source": [
        "#### <font color='blue'>Commenter la matrice de confusion </font>\n"
      ]
    },
    {
      "cell_type": "markdown",
      "metadata": {
        "id": "G85lz-YXfulL"
      },
      "source": [
        "#### <font color='blue'>Expérimenter d'autres paramètrages du réseau et commenter les résultats </font>"
      ]
    },
    {
      "cell_type": "markdown",
      "metadata": {
        "id": "Nak4Yh66fulM"
      },
      "source": [
        "\n",
        "\n",
        "#### <font color='blue'> Faites tourner de nouveaux l'algorithme en normalisant les données afin que celles-ci soit comprises entre 0 et 1. Qu'observez vous? </font>"
      ]
    },
    {
      "cell_type": "code",
      "execution_count": null,
      "metadata": {
        "id": "V67rJUqHfulM"
      },
      "outputs": [],
      "source": []
    }
  ],
  "metadata": {
    "hide_input": false,
    "kernelspec": {
      "display_name": "Python 3 (ipykernel)",
      "language": "python",
      "name": "python3"
    },
    "language_info": {
      "codemirror_mode": {
        "name": "ipython",
        "version": 3
      },
      "file_extension": ".py",
      "mimetype": "text/x-python",
      "name": "python",
      "nbconvert_exporter": "python",
      "pygments_lexer": "ipython3",
      "version": "3.11.5"
    },
    "toc": {
      "nav_menu": {},
      "number_sections": true,
      "sideBar": true,
      "skip_h1_title": false,
      "toc_cell": false,
      "toc_position": {},
      "toc_section_display": "block",
      "toc_window_display": true
    },
    "colab": {
      "provenance": [],
      "include_colab_link": true
    }
  },
  "nbformat": 4,
  "nbformat_minor": 0
}